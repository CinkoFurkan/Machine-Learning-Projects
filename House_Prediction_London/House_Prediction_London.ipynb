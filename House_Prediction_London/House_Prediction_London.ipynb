{
  "metadata": {
    "kernelspec": {
      "language": "python",
      "display_name": "Python 3",
      "name": "python3"
    },
    "language_info": {
      "pygments_lexer": "ipython3",
      "nbconvert_exporter": "python",
      "version": "3.6.4",
      "file_extension": ".py",
      "codemirror_mode": {
        "name": "ipython",
        "version": 3
      },
      "name": "python",
      "mimetype": "text/x-python"
    },
    "kaggle": {
      "accelerator": "none",
      "dataSources": [
        {
          "sourceId": 9827922,
          "sourceType": "datasetVersion",
          "datasetId": 6027214
        }
      ],
      "isInternetEnabled": true,
      "language": "python",
      "sourceType": "notebook",
      "isGpuEnabled": false
    },
    "colab": {
      "provenance": []
    }
  },
  "nbformat_minor": 0,
  "nbformat": 4,
  "cells": [
    {
      "cell_type": "markdown",
      "source": [
        "# House Price Prediction in London"
      ],
      "metadata": {
        "id": "wTFYgo404ZvQ"
      }
    },
    {
      "cell_type": "markdown",
      "source": [
        "## Importing Dataset From Kaggle\n"
      ],
      "metadata": {
        "id": "voamPJ7c4WqX"
      }
    },
    {
      "source": [
        "import kagglehub\n",
        "\n",
        "path = kagglehub.dataset_download(\"kanchana1990/real-estate-data-london-2024\")\n",
        "\n",
        "print(\"Path to dataset files:\", path)\n"
      ],
      "metadata": {
        "colab": {
          "base_uri": "https://localhost:8080/"
        },
        "id": "-A5z2nAD3OgI",
        "outputId": "dc354c8e-d0e0-41d7-93c3-64cba8dfd563"
      },
      "cell_type": "code",
      "outputs": [
        {
          "output_type": "stream",
          "name": "stdout",
          "text": [
            "Warning: Looks like you're using an outdated `kagglehub` version, please consider updating (latest version: 0.3.4)\n",
            "Downloading from https://www.kaggle.com/api/v1/datasets/download/kanchana1990/real-estate-data-london-2024?dataset_version_number=1...\n"
          ]
        },
        {
          "output_type": "stream",
          "name": "stderr",
          "text": [
            "100%|██████████| 559k/559k [00:00<00:00, 992kB/s]"
          ]
        },
        {
          "output_type": "stream",
          "name": "stdout",
          "text": [
            "Extracting files...\n",
            "Path to dataset files: /root/.cache/kagglehub/datasets/kanchana1990/real-estate-data-london-2024/versions/1\n"
          ]
        },
        {
          "output_type": "stream",
          "name": "stderr",
          "text": [
            "\n"
          ]
        }
      ],
      "execution_count": 2
    },
    {
      "cell_type": "code",
      "source": [
        "# This Python 3 environment comes with many helpful analytics libraries installed\n",
        "# It is defined by the kaggle/python Docker image: https://github.com/kaggle/docker-python\n",
        "# For example, here's several helpful packages to load\n",
        "\n",
        "import numpy as np # linear algebra\n",
        "import pandas as pd # data processing, CSV file I/O (e.g. pd.read_csv)\n",
        "\n",
        "# Input data files are available in the read-only \"../input/\" directory\n",
        "# For example, running this (by clicking run or pressing Shift+Enter) will list all files under the input directory\n",
        "\n",
        "import os\n",
        "\n",
        "files = os.listdir(path)\n",
        "print(\"Files in dataset directory:\", files)\n",
        "\n",
        "dataset_path = os.path.join(path, \"realestate_data_london_2024_nov.csv\")\n",
        "dataset = pd.read_csv(dataset_path)\n",
        "\n",
        "# You can write up to 20GB to the current directory (/kaggle/working/) that gets preserved as output when you create a version using \"Save & Run All\"\n",
        "# You can also write temporary files to /kaggle/temp/, but they won't be saved outside of the current session"
      ],
      "metadata": {
        "_uuid": "8f2839f25d086af736a60e9eeb907d3b93b6e0e5",
        "_cell_guid": "b1076dfc-b9ad-4769-8c92-a6c4dae69d19",
        "trusted": true,
        "colab": {
          "base_uri": "https://localhost:8080/"
        },
        "id": "80QnmL3T3OgJ",
        "outputId": "38ec2a82-91e2-4b98-f885-2272e4ff16e1"
      },
      "execution_count": 3,
      "outputs": [
        {
          "output_type": "stream",
          "name": "stdout",
          "text": [
            "Files in dataset directory: ['realestate_data_london_2024_nov.csv']\n"
          ]
        }
      ]
    },
    {
      "cell_type": "markdown",
      "source": [
        "## First Sight of Dataset"
      ],
      "metadata": {
        "id": "j4TCmOCv4xMy"
      }
    },
    {
      "cell_type": "code",
      "source": [
        "dataset.info()\n",
        "dataset.head()"
      ],
      "metadata": {
        "colab": {
          "base_uri": "https://localhost:8080/",
          "height": 561
        },
        "id": "UiXxJ2xU4ULQ",
        "outputId": "4b7ea26a-ffc9-4620-817e-02d6d4ffac32"
      },
      "execution_count": 4,
      "outputs": [
        {
          "output_type": "stream",
          "name": "stdout",
          "text": [
            "<class 'pandas.core.frame.DataFrame'>\n",
            "RangeIndex: 1019 entries, 0 to 1018\n",
            "Data columns (total 9 columns):\n",
            " #   Column               Non-Null Count  Dtype  \n",
            "---  ------               --------------  -----  \n",
            " 0   addedOn              1011 non-null   object \n",
            " 1   title                1019 non-null   object \n",
            " 2   descriptionHtml      1019 non-null   object \n",
            " 3   propertyType         1019 non-null   object \n",
            " 4   sizeSqFeetMax        869 non-null    float64\n",
            " 5   bedrooms             1003 non-null   float64\n",
            " 6   bathrooms            984 non-null    float64\n",
            " 7   listingUpdateReason  1019 non-null   object \n",
            " 8   price                1019 non-null   object \n",
            "dtypes: float64(3), object(6)\n",
            "memory usage: 71.8+ KB\n"
          ]
        },
        {
          "output_type": "execute_result",
          "data": {
            "text/plain": [
              "                 addedOn                                              title  \\\n",
              "0             10/10/2024  8 bedroom house for sale in Winnington Road, H...   \n",
              "1  Reduced on 24/10/2024  7 bedroom house for sale in Brick Street, Mayf...   \n",
              "2  Reduced on 22/02/2024  6 bedroom terraced house for sale in Chester S...   \n",
              "3             08/04/2024  6 bedroom detached house for sale in Winningto...   \n",
              "4  Reduced on 11/07/2023  8 bedroom detached house for sale in St. John'...   \n",
              "\n",
              "                                     descriptionHtml propertyType  \\\n",
              "0  This magnificent home, set behind security gat...        House   \n",
              "1  In the heart of exclusive Mayfair, this majest...        House   \n",
              "2  A freehold home that gives you everything you ...     Terraced   \n",
              "3  A magnificent bespoke residence set behind sec...     Detached   \n",
              "4  With its village like ambiance, elegant regenc...     Detached   \n",
              "\n",
              "   sizeSqFeetMax  bedrooms  bathrooms listingUpdateReason        price  \n",
              "0        16749.0       8.0        8.0                 new  £24,950,000  \n",
              "1        12960.0       7.0        7.0       price_reduced  £29,500,000  \n",
              "2         6952.0       6.0        6.0       price_reduced  £25,000,000  \n",
              "3        16749.0       6.0        6.0                 new  £24,950,000  \n",
              "4        10241.0       8.0       10.0       price_reduced  £24,950,000  "
            ],
            "text/html": [
              "\n",
              "  <div id=\"df-093dba64-2cd9-484f-8dad-741dc0e7df08\" class=\"colab-df-container\">\n",
              "    <div>\n",
              "<style scoped>\n",
              "    .dataframe tbody tr th:only-of-type {\n",
              "        vertical-align: middle;\n",
              "    }\n",
              "\n",
              "    .dataframe tbody tr th {\n",
              "        vertical-align: top;\n",
              "    }\n",
              "\n",
              "    .dataframe thead th {\n",
              "        text-align: right;\n",
              "    }\n",
              "</style>\n",
              "<table border=\"1\" class=\"dataframe\">\n",
              "  <thead>\n",
              "    <tr style=\"text-align: right;\">\n",
              "      <th></th>\n",
              "      <th>addedOn</th>\n",
              "      <th>title</th>\n",
              "      <th>descriptionHtml</th>\n",
              "      <th>propertyType</th>\n",
              "      <th>sizeSqFeetMax</th>\n",
              "      <th>bedrooms</th>\n",
              "      <th>bathrooms</th>\n",
              "      <th>listingUpdateReason</th>\n",
              "      <th>price</th>\n",
              "    </tr>\n",
              "  </thead>\n",
              "  <tbody>\n",
              "    <tr>\n",
              "      <th>0</th>\n",
              "      <td>10/10/2024</td>\n",
              "      <td>8 bedroom house for sale in Winnington Road, H...</td>\n",
              "      <td>This magnificent home, set behind security gat...</td>\n",
              "      <td>House</td>\n",
              "      <td>16749.0</td>\n",
              "      <td>8.0</td>\n",
              "      <td>8.0</td>\n",
              "      <td>new</td>\n",
              "      <td>£24,950,000</td>\n",
              "    </tr>\n",
              "    <tr>\n",
              "      <th>1</th>\n",
              "      <td>Reduced on 24/10/2024</td>\n",
              "      <td>7 bedroom house for sale in Brick Street, Mayf...</td>\n",
              "      <td>In the heart of exclusive Mayfair, this majest...</td>\n",
              "      <td>House</td>\n",
              "      <td>12960.0</td>\n",
              "      <td>7.0</td>\n",
              "      <td>7.0</td>\n",
              "      <td>price_reduced</td>\n",
              "      <td>£29,500,000</td>\n",
              "    </tr>\n",
              "    <tr>\n",
              "      <th>2</th>\n",
              "      <td>Reduced on 22/02/2024</td>\n",
              "      <td>6 bedroom terraced house for sale in Chester S...</td>\n",
              "      <td>A freehold home that gives you everything you ...</td>\n",
              "      <td>Terraced</td>\n",
              "      <td>6952.0</td>\n",
              "      <td>6.0</td>\n",
              "      <td>6.0</td>\n",
              "      <td>price_reduced</td>\n",
              "      <td>£25,000,000</td>\n",
              "    </tr>\n",
              "    <tr>\n",
              "      <th>3</th>\n",
              "      <td>08/04/2024</td>\n",
              "      <td>6 bedroom detached house for sale in Winningto...</td>\n",
              "      <td>A magnificent bespoke residence set behind sec...</td>\n",
              "      <td>Detached</td>\n",
              "      <td>16749.0</td>\n",
              "      <td>6.0</td>\n",
              "      <td>6.0</td>\n",
              "      <td>new</td>\n",
              "      <td>£24,950,000</td>\n",
              "    </tr>\n",
              "    <tr>\n",
              "      <th>4</th>\n",
              "      <td>Reduced on 11/07/2023</td>\n",
              "      <td>8 bedroom detached house for sale in St. John'...</td>\n",
              "      <td>With its village like ambiance, elegant regenc...</td>\n",
              "      <td>Detached</td>\n",
              "      <td>10241.0</td>\n",
              "      <td>8.0</td>\n",
              "      <td>10.0</td>\n",
              "      <td>price_reduced</td>\n",
              "      <td>£24,950,000</td>\n",
              "    </tr>\n",
              "  </tbody>\n",
              "</table>\n",
              "</div>\n",
              "    <div class=\"colab-df-buttons\">\n",
              "\n",
              "  <div class=\"colab-df-container\">\n",
              "    <button class=\"colab-df-convert\" onclick=\"convertToInteractive('df-093dba64-2cd9-484f-8dad-741dc0e7df08')\"\n",
              "            title=\"Convert this dataframe to an interactive table.\"\n",
              "            style=\"display:none;\">\n",
              "\n",
              "  <svg xmlns=\"http://www.w3.org/2000/svg\" height=\"24px\" viewBox=\"0 -960 960 960\">\n",
              "    <path d=\"M120-120v-720h720v720H120Zm60-500h600v-160H180v160Zm220 220h160v-160H400v160Zm0 220h160v-160H400v160ZM180-400h160v-160H180v160Zm440 0h160v-160H620v160ZM180-180h160v-160H180v160Zm440 0h160v-160H620v160Z\"/>\n",
              "  </svg>\n",
              "    </button>\n",
              "\n",
              "  <style>\n",
              "    .colab-df-container {\n",
              "      display:flex;\n",
              "      gap: 12px;\n",
              "    }\n",
              "\n",
              "    .colab-df-convert {\n",
              "      background-color: #E8F0FE;\n",
              "      border: none;\n",
              "      border-radius: 50%;\n",
              "      cursor: pointer;\n",
              "      display: none;\n",
              "      fill: #1967D2;\n",
              "      height: 32px;\n",
              "      padding: 0 0 0 0;\n",
              "      width: 32px;\n",
              "    }\n",
              "\n",
              "    .colab-df-convert:hover {\n",
              "      background-color: #E2EBFA;\n",
              "      box-shadow: 0px 1px 2px rgba(60, 64, 67, 0.3), 0px 1px 3px 1px rgba(60, 64, 67, 0.15);\n",
              "      fill: #174EA6;\n",
              "    }\n",
              "\n",
              "    .colab-df-buttons div {\n",
              "      margin-bottom: 4px;\n",
              "    }\n",
              "\n",
              "    [theme=dark] .colab-df-convert {\n",
              "      background-color: #3B4455;\n",
              "      fill: #D2E3FC;\n",
              "    }\n",
              "\n",
              "    [theme=dark] .colab-df-convert:hover {\n",
              "      background-color: #434B5C;\n",
              "      box-shadow: 0px 1px 3px 1px rgba(0, 0, 0, 0.15);\n",
              "      filter: drop-shadow(0px 1px 2px rgba(0, 0, 0, 0.3));\n",
              "      fill: #FFFFFF;\n",
              "    }\n",
              "  </style>\n",
              "\n",
              "    <script>\n",
              "      const buttonEl =\n",
              "        document.querySelector('#df-093dba64-2cd9-484f-8dad-741dc0e7df08 button.colab-df-convert');\n",
              "      buttonEl.style.display =\n",
              "        google.colab.kernel.accessAllowed ? 'block' : 'none';\n",
              "\n",
              "      async function convertToInteractive(key) {\n",
              "        const element = document.querySelector('#df-093dba64-2cd9-484f-8dad-741dc0e7df08');\n",
              "        const dataTable =\n",
              "          await google.colab.kernel.invokeFunction('convertToInteractive',\n",
              "                                                    [key], {});\n",
              "        if (!dataTable) return;\n",
              "\n",
              "        const docLinkHtml = 'Like what you see? Visit the ' +\n",
              "          '<a target=\"_blank\" href=https://colab.research.google.com/notebooks/data_table.ipynb>data table notebook</a>'\n",
              "          + ' to learn more about interactive tables.';\n",
              "        element.innerHTML = '';\n",
              "        dataTable['output_type'] = 'display_data';\n",
              "        await google.colab.output.renderOutput(dataTable, element);\n",
              "        const docLink = document.createElement('div');\n",
              "        docLink.innerHTML = docLinkHtml;\n",
              "        element.appendChild(docLink);\n",
              "      }\n",
              "    </script>\n",
              "  </div>\n",
              "\n",
              "\n",
              "<div id=\"df-6d74502f-4dfb-467e-a07a-417c55045c35\">\n",
              "  <button class=\"colab-df-quickchart\" onclick=\"quickchart('df-6d74502f-4dfb-467e-a07a-417c55045c35')\"\n",
              "            title=\"Suggest charts\"\n",
              "            style=\"display:none;\">\n",
              "\n",
              "<svg xmlns=\"http://www.w3.org/2000/svg\" height=\"24px\"viewBox=\"0 0 24 24\"\n",
              "     width=\"24px\">\n",
              "    <g>\n",
              "        <path d=\"M19 3H5c-1.1 0-2 .9-2 2v14c0 1.1.9 2 2 2h14c1.1 0 2-.9 2-2V5c0-1.1-.9-2-2-2zM9 17H7v-7h2v7zm4 0h-2V7h2v10zm4 0h-2v-4h2v4z\"/>\n",
              "    </g>\n",
              "</svg>\n",
              "  </button>\n",
              "\n",
              "<style>\n",
              "  .colab-df-quickchart {\n",
              "      --bg-color: #E8F0FE;\n",
              "      --fill-color: #1967D2;\n",
              "      --hover-bg-color: #E2EBFA;\n",
              "      --hover-fill-color: #174EA6;\n",
              "      --disabled-fill-color: #AAA;\n",
              "      --disabled-bg-color: #DDD;\n",
              "  }\n",
              "\n",
              "  [theme=dark] .colab-df-quickchart {\n",
              "      --bg-color: #3B4455;\n",
              "      --fill-color: #D2E3FC;\n",
              "      --hover-bg-color: #434B5C;\n",
              "      --hover-fill-color: #FFFFFF;\n",
              "      --disabled-bg-color: #3B4455;\n",
              "      --disabled-fill-color: #666;\n",
              "  }\n",
              "\n",
              "  .colab-df-quickchart {\n",
              "    background-color: var(--bg-color);\n",
              "    border: none;\n",
              "    border-radius: 50%;\n",
              "    cursor: pointer;\n",
              "    display: none;\n",
              "    fill: var(--fill-color);\n",
              "    height: 32px;\n",
              "    padding: 0;\n",
              "    width: 32px;\n",
              "  }\n",
              "\n",
              "  .colab-df-quickchart:hover {\n",
              "    background-color: var(--hover-bg-color);\n",
              "    box-shadow: 0 1px 2px rgba(60, 64, 67, 0.3), 0 1px 3px 1px rgba(60, 64, 67, 0.15);\n",
              "    fill: var(--button-hover-fill-color);\n",
              "  }\n",
              "\n",
              "  .colab-df-quickchart-complete:disabled,\n",
              "  .colab-df-quickchart-complete:disabled:hover {\n",
              "    background-color: var(--disabled-bg-color);\n",
              "    fill: var(--disabled-fill-color);\n",
              "    box-shadow: none;\n",
              "  }\n",
              "\n",
              "  .colab-df-spinner {\n",
              "    border: 2px solid var(--fill-color);\n",
              "    border-color: transparent;\n",
              "    border-bottom-color: var(--fill-color);\n",
              "    animation:\n",
              "      spin 1s steps(1) infinite;\n",
              "  }\n",
              "\n",
              "  @keyframes spin {\n",
              "    0% {\n",
              "      border-color: transparent;\n",
              "      border-bottom-color: var(--fill-color);\n",
              "      border-left-color: var(--fill-color);\n",
              "    }\n",
              "    20% {\n",
              "      border-color: transparent;\n",
              "      border-left-color: var(--fill-color);\n",
              "      border-top-color: var(--fill-color);\n",
              "    }\n",
              "    30% {\n",
              "      border-color: transparent;\n",
              "      border-left-color: var(--fill-color);\n",
              "      border-top-color: var(--fill-color);\n",
              "      border-right-color: var(--fill-color);\n",
              "    }\n",
              "    40% {\n",
              "      border-color: transparent;\n",
              "      border-right-color: var(--fill-color);\n",
              "      border-top-color: var(--fill-color);\n",
              "    }\n",
              "    60% {\n",
              "      border-color: transparent;\n",
              "      border-right-color: var(--fill-color);\n",
              "    }\n",
              "    80% {\n",
              "      border-color: transparent;\n",
              "      border-right-color: var(--fill-color);\n",
              "      border-bottom-color: var(--fill-color);\n",
              "    }\n",
              "    90% {\n",
              "      border-color: transparent;\n",
              "      border-bottom-color: var(--fill-color);\n",
              "    }\n",
              "  }\n",
              "</style>\n",
              "\n",
              "  <script>\n",
              "    async function quickchart(key) {\n",
              "      const quickchartButtonEl =\n",
              "        document.querySelector('#' + key + ' button');\n",
              "      quickchartButtonEl.disabled = true;  // To prevent multiple clicks.\n",
              "      quickchartButtonEl.classList.add('colab-df-spinner');\n",
              "      try {\n",
              "        const charts = await google.colab.kernel.invokeFunction(\n",
              "            'suggestCharts', [key], {});\n",
              "      } catch (error) {\n",
              "        console.error('Error during call to suggestCharts:', error);\n",
              "      }\n",
              "      quickchartButtonEl.classList.remove('colab-df-spinner');\n",
              "      quickchartButtonEl.classList.add('colab-df-quickchart-complete');\n",
              "    }\n",
              "    (() => {\n",
              "      let quickchartButtonEl =\n",
              "        document.querySelector('#df-6d74502f-4dfb-467e-a07a-417c55045c35 button');\n",
              "      quickchartButtonEl.style.display =\n",
              "        google.colab.kernel.accessAllowed ? 'block' : 'none';\n",
              "    })();\n",
              "  </script>\n",
              "</div>\n",
              "\n",
              "    </div>\n",
              "  </div>\n"
            ],
            "application/vnd.google.colaboratory.intrinsic+json": {
              "type": "dataframe",
              "variable_name": "dataset",
              "summary": "{\n  \"name\": \"dataset\",\n  \"rows\": 1019,\n  \"fields\": [\n    {\n      \"column\": \"addedOn\",\n      \"properties\": {\n        \"dtype\": \"category\",\n        \"num_unique_values\": 442,\n        \"samples\": [\n          \"Reduced on 29/02/2024\",\n          \"14/09/2024\",\n          \"04/07/2024\"\n        ],\n        \"semantic_type\": \"\",\n        \"description\": \"\"\n      }\n    },\n    {\n      \"column\": \"title\",\n      \"properties\": {\n        \"dtype\": \"string\",\n        \"num_unique_values\": 965,\n        \"samples\": [\n          \"6 bedroom terraced house for sale in Endsleigh Street, London, WC1H\",\n          \"4 bedroom flat for sale in Princes Gate, London, SW7\",\n          \"7 bedroom semi-detached house for sale in Hamilton Terrace, St John's Wood,NW8\"\n        ],\n        \"semantic_type\": \"\",\n        \"description\": \"\"\n      }\n    },\n    {\n      \"column\": \"descriptionHtml\",\n      \"properties\": {\n        \"dtype\": \"string\",\n        \"num_unique_values\": 1010,\n        \"samples\": [\n          \"United Kingdom Sotheby's International Realty are proud to present this beautifully finished, three-bedroom lateral apartment in luxury gated residence moments from Holland Park. \\r<br />\\r<br />Taking five-star luxury living to new heights is this superbly modern apartment in the highly coveted Holland Park Villas, just off Campden Hill. Set within the landscaped grounds of its host development, the apartment is complemented by state-of-the-art amenities that include conference facilities, a luxury spa, a gym and an indoor swimming pool. Since the complex also comes with a 24-hour concierge, it is the perfect combination of hotel-quality service and the private comforts of home.\\r<br />\\r<br />The interior of the apartment is spacious and contemporary with a fully equipped kitchen and breakfast room that connects to the main reception and dining room and its double doors that open\\r<br />on to the private paved garden, which is ideal for relaxing or entertaining. There is a generously sized principal bedroom with its own en-suite bath and shower room, two double guest bedroom\\r<br />suites, a utility room and a guest cloakroom. The detail of the apartment\\u2019s finish speaks to its quality, with thoughtful features such as comfort cooling, underfloor heating and a Lutron lighting system.\\r<br />The apartment also has designated underground parking.\\r<br />\\r<br />Holland Park Villas is a relatively new luxury residential development, launched in 2018, and is only accessible via private driveway through secure entrance gates. This exclusivity and privacy will enhance the investment value of the apartment over the long-term. The complex is also excellently positioned and is only minutes from Kensington High Street and Notting Hill, as well as numerous transport links for accessing the rest of the city.\",\n          \"A wonderful opportunity to create a sensational lateral apartment of just under 3,000 sqft located on the fourth floor of this sought after portered building adjacent to Hyde Park. Fabulous southerly views from the principle rooms over the secure Communal Gardens.<br />Kingston House North is perfectly positioned for access to Hyde Park, yet just a short stroll from the array of amenities in Knightsbridge, including Harrods, Harvey Nichols and Sloane Street.<br /><br /><b>Notice</b><br />Please note we have not tested any apparatus, fixtures, fittings, or services. Interested parties must undertake their own investigation into the working order of these items. All measurements are approximate and photographs provided for guidance only.\",\n          \"<div>A detached low built house in the heart of St. John's Wood, Approximately 4,350 Sq. Ft. over three floors.</div>\"\n        ],\n        \"semantic_type\": \"\",\n        \"description\": \"\"\n      }\n    },\n    {\n      \"column\": \"propertyType\",\n      \"properties\": {\n        \"dtype\": \"category\",\n        \"num_unique_values\": 21,\n        \"samples\": [\n          \"House\",\n          \"Link Detached House\",\n          \"Block of Apartments\"\n        ],\n        \"semantic_type\": \"\",\n        \"description\": \"\"\n      }\n    },\n    {\n      \"column\": \"sizeSqFeetMax\",\n      \"properties\": {\n        \"dtype\": \"number\",\n        \"std\": 11796.770144039254,\n        \"min\": 425.0,\n        \"max\": 336989.0,\n        \"num_unique_values\": 693,\n        \"samples\": [\n          6146.0,\n          2927.0,\n          2351.0\n        ],\n        \"semantic_type\": \"\",\n        \"description\": \"\"\n      }\n    },\n    {\n      \"column\": \"bedrooms\",\n      \"properties\": {\n        \"dtype\": \"number\",\n        \"std\": 3.264992063251536,\n        \"min\": 1.0,\n        \"max\": 66.0,\n        \"num_unique_values\": 21,\n        \"samples\": [\n          8.0,\n          15.0,\n          13.0\n        ],\n        \"semantic_type\": \"\",\n        \"description\": \"\"\n      }\n    },\n    {\n      \"column\": \"bathrooms\",\n      \"properties\": {\n        \"dtype\": \"number\",\n        \"std\": 3.085808654841872,\n        \"min\": 1.0,\n        \"max\": 66.0,\n        \"num_unique_values\": 19,\n        \"samples\": [\n          8.0,\n          3.0,\n          20.0\n        ],\n        \"semantic_type\": \"\",\n        \"description\": \"\"\n      }\n    },\n    {\n      \"column\": \"listingUpdateReason\",\n      \"properties\": {\n        \"dtype\": \"category\",\n        \"num_unique_values\": 3,\n        \"samples\": [\n          \"new\",\n          \"price_reduced\",\n          \"size_change\"\n        ],\n        \"semantic_type\": \"\",\n        \"description\": \"\"\n      }\n    },\n    {\n      \"column\": \"price\",\n      \"properties\": {\n        \"dtype\": \"category\",\n        \"num_unique_values\": 232,\n        \"samples\": [\n          \"\\u00a36,850,000\",\n          \"\\u00a313,950,000\",\n          \"\\u00a330,000,000\"\n        ],\n        \"semantic_type\": \"\",\n        \"description\": \"\"\n      }\n    }\n  ]\n}"
            }
          },
          "metadata": {},
          "execution_count": 4
        }
      ]
    },
    {
      "cell_type": "code",
      "source": [
        "dataset.isnull().sum()"
      ],
      "metadata": {
        "colab": {
          "base_uri": "https://localhost:8080/",
          "height": 362
        },
        "id": "UPmuOClk5bxC",
        "outputId": "cbefd16c-5ba0-4399-a2a9-32c432ec3cbf"
      },
      "execution_count": 5,
      "outputs": [
        {
          "output_type": "execute_result",
          "data": {
            "text/plain": [
              "addedOn                  8\n",
              "title                    0\n",
              "descriptionHtml          0\n",
              "propertyType             0\n",
              "sizeSqFeetMax          150\n",
              "bedrooms                16\n",
              "bathrooms               35\n",
              "listingUpdateReason      0\n",
              "price                    0\n",
              "dtype: int64"
            ],
            "text/html": [
              "<div>\n",
              "<style scoped>\n",
              "    .dataframe tbody tr th:only-of-type {\n",
              "        vertical-align: middle;\n",
              "    }\n",
              "\n",
              "    .dataframe tbody tr th {\n",
              "        vertical-align: top;\n",
              "    }\n",
              "\n",
              "    .dataframe thead th {\n",
              "        text-align: right;\n",
              "    }\n",
              "</style>\n",
              "<table border=\"1\" class=\"dataframe\">\n",
              "  <thead>\n",
              "    <tr style=\"text-align: right;\">\n",
              "      <th></th>\n",
              "      <th>0</th>\n",
              "    </tr>\n",
              "  </thead>\n",
              "  <tbody>\n",
              "    <tr>\n",
              "      <th>addedOn</th>\n",
              "      <td>8</td>\n",
              "    </tr>\n",
              "    <tr>\n",
              "      <th>title</th>\n",
              "      <td>0</td>\n",
              "    </tr>\n",
              "    <tr>\n",
              "      <th>descriptionHtml</th>\n",
              "      <td>0</td>\n",
              "    </tr>\n",
              "    <tr>\n",
              "      <th>propertyType</th>\n",
              "      <td>0</td>\n",
              "    </tr>\n",
              "    <tr>\n",
              "      <th>sizeSqFeetMax</th>\n",
              "      <td>150</td>\n",
              "    </tr>\n",
              "    <tr>\n",
              "      <th>bedrooms</th>\n",
              "      <td>16</td>\n",
              "    </tr>\n",
              "    <tr>\n",
              "      <th>bathrooms</th>\n",
              "      <td>35</td>\n",
              "    </tr>\n",
              "    <tr>\n",
              "      <th>listingUpdateReason</th>\n",
              "      <td>0</td>\n",
              "    </tr>\n",
              "    <tr>\n",
              "      <th>price</th>\n",
              "      <td>0</td>\n",
              "    </tr>\n",
              "  </tbody>\n",
              "</table>\n",
              "</div><br><label><b>dtype:</b> int64</label>"
            ]
          },
          "metadata": {},
          "execution_count": 5
        }
      ]
    },
    {
      "cell_type": "code",
      "source": [
        "dataset['sizeSqFeetMax'] = dataset['sizeSqFeetMax'].fillna(dataset['sizeSqFeetMax'].mean())\n",
        "dataset['bedrooms'] = dataset['bedrooms'].fillna(dataset['bedrooms'].mean())\n",
        "dataset['bathrooms'] = dataset['bathrooms'].fillna(dataset['bathrooms'].mean())\n",
        "\n",
        "\n",
        "dataset.isnull().sum()\n",
        "\n",
        "\n",
        "\n"
      ],
      "metadata": {
        "colab": {
          "base_uri": "https://localhost:8080/",
          "height": 362
        },
        "id": "D-tay1Gq5xVg",
        "outputId": "2b4492f9-f1bc-4dc8-ded6-b9fa600efe11"
      },
      "execution_count": 6,
      "outputs": [
        {
          "output_type": "execute_result",
          "data": {
            "text/plain": [
              "addedOn                8\n",
              "title                  0\n",
              "descriptionHtml        0\n",
              "propertyType           0\n",
              "sizeSqFeetMax          0\n",
              "bedrooms               0\n",
              "bathrooms              0\n",
              "listingUpdateReason    0\n",
              "price                  0\n",
              "dtype: int64"
            ],
            "text/html": [
              "<div>\n",
              "<style scoped>\n",
              "    .dataframe tbody tr th:only-of-type {\n",
              "        vertical-align: middle;\n",
              "    }\n",
              "\n",
              "    .dataframe tbody tr th {\n",
              "        vertical-align: top;\n",
              "    }\n",
              "\n",
              "    .dataframe thead th {\n",
              "        text-align: right;\n",
              "    }\n",
              "</style>\n",
              "<table border=\"1\" class=\"dataframe\">\n",
              "  <thead>\n",
              "    <tr style=\"text-align: right;\">\n",
              "      <th></th>\n",
              "      <th>0</th>\n",
              "    </tr>\n",
              "  </thead>\n",
              "  <tbody>\n",
              "    <tr>\n",
              "      <th>addedOn</th>\n",
              "      <td>8</td>\n",
              "    </tr>\n",
              "    <tr>\n",
              "      <th>title</th>\n",
              "      <td>0</td>\n",
              "    </tr>\n",
              "    <tr>\n",
              "      <th>descriptionHtml</th>\n",
              "      <td>0</td>\n",
              "    </tr>\n",
              "    <tr>\n",
              "      <th>propertyType</th>\n",
              "      <td>0</td>\n",
              "    </tr>\n",
              "    <tr>\n",
              "      <th>sizeSqFeetMax</th>\n",
              "      <td>0</td>\n",
              "    </tr>\n",
              "    <tr>\n",
              "      <th>bedrooms</th>\n",
              "      <td>0</td>\n",
              "    </tr>\n",
              "    <tr>\n",
              "      <th>bathrooms</th>\n",
              "      <td>0</td>\n",
              "    </tr>\n",
              "    <tr>\n",
              "      <th>listingUpdateReason</th>\n",
              "      <td>0</td>\n",
              "    </tr>\n",
              "    <tr>\n",
              "      <th>price</th>\n",
              "      <td>0</td>\n",
              "    </tr>\n",
              "  </tbody>\n",
              "</table>\n",
              "</div><br><label><b>dtype:</b> int64</label>"
            ]
          },
          "metadata": {},
          "execution_count": 6
        }
      ]
    },
    {
      "cell_type": "markdown",
      "source": [
        "# Visualization of the Dataset"
      ],
      "metadata": {
        "id": "yUbLMhqm8r5Z"
      }
    },
    {
      "cell_type": "code",
      "source": [
        "import matplotlib.pyplot as plt\n",
        "import seaborn as sns\n",
        "\n",
        "plt.figure(figsize=(8, 6))\n",
        "sns.heatmap(dataset[['sizeSqFeetMax', 'bedrooms', 'bathrooms']].corr(), annot=True, cmap='coolwarm')\n",
        "plt.title(\"Correlation Heatmap of Numerical Columns\")\n",
        "plt.show()\n"
      ],
      "metadata": {
        "colab": {
          "base_uri": "https://localhost:8080/",
          "height": 545
        },
        "id": "om1Fggqa84P2",
        "outputId": "4b110794-7665-4e4c-ffb7-d8dc394dc717"
      },
      "execution_count": 7,
      "outputs": [
        {
          "output_type": "display_data",
          "data": {
            "text/plain": [
              "<Figure size 800x600 with 2 Axes>"
            ],
            "image/png": "[encoded data removed]"
          },
          "metadata": {}
        }
      ]
    },
    {
      "cell_type": "code",
      "source": [
        "plt.figure(figsize=(20, 6))\n",
        "sns.countplot(data=dataset, x='propertyType')\n",
        "plt.title(\"Count of Different Property Types\")\n",
        "plt.xticks(rotation=70)\n",
        "plt.show()\n"
      ],
      "metadata": {
        "colab": {
          "base_uri": "https://localhost:8080/",
          "height": 578
        },
        "id": "-Qnx2t6s92U9",
        "outputId": "03493fb0-98af-47f3-d359-28777bc797ee"
      },
      "execution_count": 8,
      "outputs": [
        {
          "output_type": "display_data",
          "data": {
            "text/plain": [
              "<Figure size 2000x600 with 1 Axes>"
            ],
            "image/png": "[encoded data removed]"
          },
          "metadata": {}
        }
      ]
    },
    {
      "cell_type": "code",
      "source": [
        "sns.pairplot(dataset[['sizeSqFeetMax', 'bedrooms', 'bathrooms']])\n",
        "plt.suptitle(\"Pair Plot of Numerical Columns\", y=1.02)\n",
        "plt.show()\n"
      ],
      "metadata": {
        "colab": {
          "base_uri": "https://localhost:8080/",
          "height": 787
        },
        "id": "EIIScAV6-Okh",
        "outputId": "3346b044-ff66-4ad7-9f62-e09394104239"
      },
      "execution_count": 9,
      "outputs": [
        {
          "output_type": "display_data",
          "data": {
            "text/plain": [
              "<Figure size 750x750 with 12 Axes>"
            ],
            "image/png": "[encoded data removed]"
          },
          "metadata": {}
        }
      ]
    },
    {
      "cell_type": "code",
      "source": [
        "plt.figure(figsize=(12, 6))\n",
        "sns.histplot(dataset['price'], bins=20, color='skyblue', edgecolor='black', linewidth=0.5)\n",
        "plt.title(\"Distribution of Property Prices\", fontsize=16, fontweight='bold')\n",
        "plt.xlabel(\"Price\", fontsize=14)\n",
        "plt.ylabel(\"Frequency\", fontsize=14)\n",
        "plt.grid(axis='y', linestyle='--', alpha=0.7)\n",
        "plt.show()\n"
      ],
      "metadata": {
        "colab": {
          "base_uri": "https://localhost:8080/",
          "height": 571
        },
        "id": "TC70KtaNAS5t",
        "outputId": "52c4df2b-288a-48f3-9d0b-8ddc3dde75a3"
      },
      "execution_count": 10,
      "outputs": [
        {
          "output_type": "display_data",
          "data": {
            "text/plain": [
              "<Figure size 1200x600 with 1 Axes>"
            ],
            "image/png": "[encoded data removed]"
          },
          "metadata": {}
        }
      ]
    },
    {
      "cell_type": "markdown",
      "source": [
        "# Encoding Categorical Features"
      ],
      "metadata": {
        "id": "XD46Ob6DESFO"
      }
    },
    {
      "cell_type": "code",
      "source": [
        "from sklearn.preprocessing import OneHotEncoder\n",
        "\n",
        "encoder = OneHotEncoder(sparse_output=False)\n",
        "\n",
        "encoded = encoder.fit_transform(dataset[[\"propertyType\", \"listingUpdateReason\"]])\n",
        "\n",
        "encoded_df = pd.DataFrame(encoded, columns=encoder.get_feature_names_out([\"propertyType\", \"listingUpdateReason\"]))\n",
        "dataset = pd.concat([dataset, encoded_df], axis=1)\n",
        "\n",
        "\n",
        "dataset.head()\n"
      ],
      "metadata": {
        "colab": {
          "base_uri": "https://localhost:8080/",
          "height": 627
        },
        "id": "rBk7vdi8EKTU",
        "outputId": "cd74fe40-998e-4b0a-8f2b-2bf2f780d195"
      },
      "execution_count": 11,
      "outputs": [
        {
          "output_type": "execute_result",
          "data": {
            "text/plain": [
              "                 addedOn                                              title  \\\n",
              "0             10/10/2024  8 bedroom house for sale in Winnington Road, H...   \n",
              "1  Reduced on 24/10/2024  7 bedroom house for sale in Brick Street, Mayf...   \n",
              "2  Reduced on 22/02/2024  6 bedroom terraced house for sale in Chester S...   \n",
              "3             08/04/2024  6 bedroom detached house for sale in Winningto...   \n",
              "4  Reduced on 11/07/2023  8 bedroom detached house for sale in St. John'...   \n",
              "\n",
              "                                     descriptionHtml propertyType  \\\n",
              "0  This magnificent home, set behind security gat...        House   \n",
              "1  In the heart of exclusive Mayfair, this majest...        House   \n",
              "2  A freehold home that gives you everything you ...     Terraced   \n",
              "3  A magnificent bespoke residence set behind sec...     Detached   \n",
              "4  With its village like ambiance, elegant regenc...     Detached   \n",
              "\n",
              "   sizeSqFeetMax  bedrooms  bathrooms listingUpdateReason        price  \\\n",
              "0        16749.0       8.0        8.0                 new  £24,950,000   \n",
              "1        12960.0       7.0        7.0       price_reduced  £29,500,000   \n",
              "2         6952.0       6.0        6.0       price_reduced  £25,000,000   \n",
              "3        16749.0       6.0        6.0                 new  £24,950,000   \n",
              "4        10241.0       8.0       10.0       price_reduced  £24,950,000   \n",
              "\n",
              "   propertyType_Apartment  ...  propertyType_Not Specified  \\\n",
              "0                     0.0  ...                         0.0   \n",
              "1                     0.0  ...                         0.0   \n",
              "2                     0.0  ...                         0.0   \n",
              "3                     0.0  ...                         0.0   \n",
              "4                     0.0  ...                         0.0   \n",
              "\n",
              "   propertyType_Penthouse  propertyType_Plot  propertyType_Semi-Detached  \\\n",
              "0                     0.0                0.0                         0.0   \n",
              "1                     0.0                0.0                         0.0   \n",
              "2                     0.0                0.0                         0.0   \n",
              "3                     0.0                0.0                         0.0   \n",
              "4                     0.0                0.0                         0.0   \n",
              "\n",
              "   propertyType_Terraced  propertyType_Town House  propertyType_Villa  \\\n",
              "0                    0.0                      0.0                 0.0   \n",
              "1                    0.0                      0.0                 0.0   \n",
              "2                    1.0                      0.0                 0.0   \n",
              "3                    0.0                      0.0                 0.0   \n",
              "4                    0.0                      0.0                 0.0   \n",
              "\n",
              "   listingUpdateReason_new  listingUpdateReason_price_reduced  \\\n",
              "0                      1.0                                0.0   \n",
              "1                      0.0                                1.0   \n",
              "2                      0.0                                1.0   \n",
              "3                      1.0                                0.0   \n",
              "4                      0.0                                1.0   \n",
              "\n",
              "   listingUpdateReason_size_change  \n",
              "0                              0.0  \n",
              "1                              0.0  \n",
              "2                              0.0  \n",
              "3                              0.0  \n",
              "4                              0.0  \n",
              "\n",
              "[5 rows x 33 columns]"
            ],
            "text/html": [
              "\n",
              "  <div id=\"df-7dc2a0cf-6f2b-472c-a1ac-6bc5e79d74f0\" class=\"colab-df-container\">\n",
              "    <div>\n",
              "<style scoped>\n",
              "    .dataframe tbody tr th:only-of-type {\n",
              "        vertical-align: middle;\n",
              "    }\n",
              "\n",
              "    .dataframe tbody tr th {\n",
              "        vertical-align: top;\n",
              "    }\n",
              "\n",
              "    .dataframe thead th {\n",
              "        text-align: right;\n",
              "    }\n",
              "</style>\n",
              "<table border=\"1\" class=\"dataframe\">\n",
              "  <thead>\n",
              "    <tr style=\"text-align: right;\">\n",
              "      <th></th>\n",
              "      <th>addedOn</th>\n",
              "      <th>title</th>\n",
              "      <th>descriptionHtml</th>\n",
              "      <th>propertyType</th>\n",
              "      <th>sizeSqFeetMax</th>\n",
              "      <th>bedrooms</th>\n",
              "      <th>bathrooms</th>\n",
              "      <th>listingUpdateReason</th>\n",
              "      <th>price</th>\n",
              "      <th>propertyType_Apartment</th>\n",
              "      <th>...</th>\n",
              "      <th>propertyType_Not Specified</th>\n",
              "      <th>propertyType_Penthouse</th>\n",
              "      <th>propertyType_Plot</th>\n",
              "      <th>propertyType_Semi-Detached</th>\n",
              "      <th>propertyType_Terraced</th>\n",
              "      <th>propertyType_Town House</th>\n",
              "      <th>propertyType_Villa</th>\n",
              "      <th>listingUpdateReason_new</th>\n",
              "      <th>listingUpdateReason_price_reduced</th>\n",
              "      <th>listingUpdateReason_size_change</th>\n",
              "    </tr>\n",
              "  </thead>\n",
              "  <tbody>\n",
              "    <tr>\n",
              "      <th>0</th>\n",
              "      <td>10/10/2024</td>\n",
              "      <td>8 bedroom house for sale in Winnington Road, H...</td>\n",
              "      <td>This magnificent home, set behind security gat...</td>\n",
              "      <td>House</td>\n",
              "      <td>16749.0</td>\n",
              "      <td>8.0</td>\n",
              "      <td>8.0</td>\n",
              "      <td>new</td>\n",
              "      <td>£24,950,000</td>\n",
              "      <td>0.0</td>\n",
              "      <td>...</td>\n",
              "      <td>0.0</td>\n",
              "      <td>0.0</td>\n",
              "      <td>0.0</td>\n",
              "      <td>0.0</td>\n",
              "      <td>0.0</td>\n",
              "      <td>0.0</td>\n",
              "      <td>0.0</td>\n",
              "      <td>1.0</td>\n",
              "      <td>0.0</td>\n",
              "      <td>0.0</td>\n",
              "    </tr>\n",
              "    <tr>\n",
              "      <th>1</th>\n",
              "      <td>Reduced on 24/10/2024</td>\n",
              "      <td>7 bedroom house for sale in Brick Street, Mayf...</td>\n",
              "      <td>In the heart of exclusive Mayfair, this majest...</td>\n",
              "      <td>House</td>\n",
              "      <td>12960.0</td>\n",
              "      <td>7.0</td>\n",
              "      <td>7.0</td>\n",
              "      <td>price_reduced</td>\n",
              "      <td>£29,500,000</td>\n",
              "      <td>0.0</td>\n",
              "      <td>...</td>\n",
              "      <td>0.0</td>\n",
              "      <td>0.0</td>\n",
              "      <td>0.0</td>\n",
              "      <td>0.0</td>\n",
              "      <td>0.0</td>\n",
              "      <td>0.0</td>\n",
              "      <td>0.0</td>\n",
              "      <td>0.0</td>\n",
              "      <td>1.0</td>\n",
              "      <td>0.0</td>\n",
              "    </tr>\n",
              "    <tr>\n",
              "      <th>2</th>\n",
              "      <td>Reduced on 22/02/2024</td>\n",
              "      <td>6 bedroom terraced house for sale in Chester S...</td>\n",
              "      <td>A freehold home that gives you everything you ...</td>\n",
              "      <td>Terraced</td>\n",
              "      <td>6952.0</td>\n",
              "      <td>6.0</td>\n",
              "      <td>6.0</td>\n",
              "      <td>price_reduced</td>\n",
              "      <td>£25,000,000</td>\n",
              "      <td>0.0</td>\n",
              "      <td>...</td>\n",
              "      <td>0.0</td>\n",
              "      <td>0.0</td>\n",
              "      <td>0.0</td>\n",
              "      <td>0.0</td>\n",
              "      <td>1.0</td>\n",
              "      <td>0.0</td>\n",
              "      <td>0.0</td>\n",
              "      <td>0.0</td>\n",
              "      <td>1.0</td>\n",
              "      <td>0.0</td>\n",
              "    </tr>\n",
              "    <tr>\n",
              "      <th>3</th>\n",
              "      <td>08/04/2024</td>\n",
              "      <td>6 bedroom detached house for sale in Winningto...</td>\n",
              "      <td>A magnificent bespoke residence set behind sec...</td>\n",
              "      <td>Detached</td>\n",
              "      <td>16749.0</td>\n",
              "      <td>6.0</td>\n",
              "      <td>6.0</td>\n",
              "      <td>new</td>\n",
              "      <td>£24,950,000</td>\n",
              "      <td>0.0</td>\n",
              "      <td>...</td>\n",
              "      <td>0.0</td>\n",
              "      <td>0.0</td>\n",
              "      <td>0.0</td>\n",
              "      <td>0.0</td>\n",
              "      <td>0.0</td>\n",
              "      <td>0.0</td>\n",
              "      <td>0.0</td>\n",
              "      <td>1.0</td>\n",
              "      <td>0.0</td>\n",
              "      <td>0.0</td>\n",
              "    </tr>\n",
              "    <tr>\n",
              "      <th>4</th>\n",
              "      <td>Reduced on 11/07/2023</td>\n",
              "      <td>8 bedroom detached house for sale in St. John'...</td>\n",
              "      <td>With its village like ambiance, elegant regenc...</td>\n",
              "      <td>Detached</td>\n",
              "      <td>10241.0</td>\n",
              "      <td>8.0</td>\n",
              "      <td>10.0</td>\n",
              "      <td>price_reduced</td>\n",
              "      <td>£24,950,000</td>\n",
              "      <td>0.0</td>\n",
              "      <td>...</td>\n",
              "      <td>0.0</td>\n",
              "      <td>0.0</td>\n",
              "      <td>0.0</td>\n",
              "      <td>0.0</td>\n",
              "      <td>0.0</td>\n",
              "      <td>0.0</td>\n",
              "      <td>0.0</td>\n",
              "      <td>0.0</td>\n",
              "      <td>1.0</td>\n",
              "      <td>0.0</td>\n",
              "    </tr>\n",
              "  </tbody>\n",
              "</table>\n",
              "<p>5 rows × 33 columns</p>\n",
              "</div>\n",
              "    <div class=\"colab-df-buttons\">\n",
              "\n",
              "  <div class=\"colab-df-container\">\n",
              "    <button class=\"colab-df-convert\" onclick=\"convertToInteractive('df-7dc2a0cf-6f2b-472c-a1ac-6bc5e79d74f0')\"\n",
              "            title=\"Convert this dataframe to an interactive table.\"\n",
              "            style=\"display:none;\">\n",
              "\n",
              "  <svg xmlns=\"http://www.w3.org/2000/svg\" height=\"24px\" viewBox=\"0 -960 960 960\">\n",
              "    <path d=\"M120-120v-720h720v720H120Zm60-500h600v-160H180v160Zm220 220h160v-160H400v160Zm0 220h160v-160H400v160ZM180-400h160v-160H180v160Zm440 0h160v-160H620v160ZM180-180h160v-160H180v160Zm440 0h160v-160H620v160Z\"/>\n",
              "  </svg>\n",
              "    </button>\n",
              "\n",
              "  <style>\n",
              "    .colab-df-container {\n",
              "      display:flex;\n",
              "      gap: 12px;\n",
              "    }\n",
              "\n",
              "    .colab-df-convert {\n",
              "      background-color: #E8F0FE;\n",
              "      border: none;\n",
              "      border-radius: 50%;\n",
              "      cursor: pointer;\n",
              "      display: none;\n",
              "      fill: #1967D2;\n",
              "      height: 32px;\n",
              "      padding: 0 0 0 0;\n",
              "      width: 32px;\n",
              "    }\n",
              "\n",
              "    .colab-df-convert:hover {\n",
              "      background-color: #E2EBFA;\n",
              "      box-shadow: 0px 1px 2px rgba(60, 64, 67, 0.3), 0px 1px 3px 1px rgba(60, 64, 67, 0.15);\n",
              "      fill: #174EA6;\n",
              "    }\n",
              "\n",
              "    .colab-df-buttons div {\n",
              "      margin-bottom: 4px;\n",
              "    }\n",
              "\n",
              "    [theme=dark] .colab-df-convert {\n",
              "      background-color: #3B4455;\n",
              "      fill: #D2E3FC;\n",
              "    }\n",
              "\n",
              "    [theme=dark] .colab-df-convert:hover {\n",
              "      background-color: #434B5C;\n",
              "      box-shadow: 0px 1px 3px 1px rgba(0, 0, 0, 0.15);\n",
              "      filter: drop-shadow(0px 1px 2px rgba(0, 0, 0, 0.3));\n",
              "      fill: #FFFFFF;\n",
              "    }\n",
              "  </style>\n",
              "\n",
              "    <script>\n",
              "      const buttonEl =\n",
              "        document.querySelector('#df-7dc2a0cf-6f2b-472c-a1ac-6bc5e79d74f0 button.colab-df-convert');\n",
              "      buttonEl.style.display =\n",
              "        google.colab.kernel.accessAllowed ? 'block' : 'none';\n",
              "\n",
              "      async function convertToInteractive(key) {\n",
              "        const element = document.querySelector('#df-7dc2a0cf-6f2b-472c-a1ac-6bc5e79d74f0');\n",
              "        const dataTable =\n",
              "          await google.colab.kernel.invokeFunction('convertToInteractive',\n",
              "                                                    [key], {});\n",
              "        if (!dataTable) return;\n",
              "\n",
              "        const docLinkHtml = 'Like what you see? Visit the ' +\n",
              "          '<a target=\"_blank\" href=https://colab.research.google.com/notebooks/data_table.ipynb>data table notebook</a>'\n",
              "          + ' to learn more about interactive tables.';\n",
              "        element.innerHTML = '';\n",
              "        dataTable['output_type'] = 'display_data';\n",
              "        await google.colab.output.renderOutput(dataTable, element);\n",
              "        const docLink = document.createElement('div');\n",
              "        docLink.innerHTML = docLinkHtml;\n",
              "        element.appendChild(docLink);\n",
              "      }\n",
              "    </script>\n",
              "  </div>\n",
              "\n",
              "\n",
              "<div id=\"df-e2307996-77d8-411f-b53e-83ae1702718f\">\n",
              "  <button class=\"colab-df-quickchart\" onclick=\"quickchart('df-e2307996-77d8-411f-b53e-83ae1702718f')\"\n",
              "            title=\"Suggest charts\"\n",
              "            style=\"display:none;\">\n",
              "\n",
              "<svg xmlns=\"http://www.w3.org/2000/svg\" height=\"24px\"viewBox=\"0 0 24 24\"\n",
              "     width=\"24px\">\n",
              "    <g>\n",
              "        <path d=\"M19 3H5c-1.1 0-2 .9-2 2v14c0 1.1.9 2 2 2h14c1.1 0 2-.9 2-2V5c0-1.1-.9-2-2-2zM9 17H7v-7h2v7zm4 0h-2V7h2v10zm4 0h-2v-4h2v4z\"/>\n",
              "    </g>\n",
              "</svg>\n",
              "  </button>\n",
              "\n",
              "<style>\n",
              "  .colab-df-quickchart {\n",
              "      --bg-color: #E8F0FE;\n",
              "      --fill-color: #1967D2;\n",
              "      --hover-bg-color: #E2EBFA;\n",
              "      --hover-fill-color: #174EA6;\n",
              "      --disabled-fill-color: #AAA;\n",
              "      --disabled-bg-color: #DDD;\n",
              "  }\n",
              "\n",
              "  [theme=dark] .colab-df-quickchart {\n",
              "      --bg-color: #3B4455;\n",
              "      --fill-color: #D2E3FC;\n",
              "      --hover-bg-color: #434B5C;\n",
              "      --hover-fill-color: #FFFFFF;\n",
              "      --disabled-bg-color: #3B4455;\n",
              "      --disabled-fill-color: #666;\n",
              "  }\n",
              "\n",
              "  .colab-df-quickchart {\n",
              "    background-color: var(--bg-color);\n",
              "    border: none;\n",
              "    border-radius: 50%;\n",
              "    cursor: pointer;\n",
              "    display: none;\n",
              "    fill: var(--fill-color);\n",
              "    height: 32px;\n",
              "    padding: 0;\n",
              "    width: 32px;\n",
              "  }\n",
              "\n",
              "  .colab-df-quickchart:hover {\n",
              "    background-color: var(--hover-bg-color);\n",
              "    box-shadow: 0 1px 2px rgba(60, 64, 67, 0.3), 0 1px 3px 1px rgba(60, 64, 67, 0.15);\n",
              "    fill: var(--button-hover-fill-color);\n",
              "  }\n",
              "\n",
              "  .colab-df-quickchart-complete:disabled,\n",
              "  .colab-df-quickchart-complete:disabled:hover {\n",
              "    background-color: var(--disabled-bg-color);\n",
              "    fill: var(--disabled-fill-color);\n",
              "    box-shadow: none;\n",
              "  }\n",
              "\n",
              "  .colab-df-spinner {\n",
              "    border: 2px solid var(--fill-color);\n",
              "    border-color: transparent;\n",
              "    border-bottom-color: var(--fill-color);\n",
              "    animation:\n",
              "      spin 1s steps(1) infinite;\n",
              "  }\n",
              "\n",
              "  @keyframes spin {\n",
              "    0% {\n",
              "      border-color: transparent;\n",
              "      border-bottom-color: var(--fill-color);\n",
              "      border-left-color: var(--fill-color);\n",
              "    }\n",
              "    20% {\n",
              "      border-color: transparent;\n",
              "      border-left-color: var(--fill-color);\n",
              "      border-top-color: var(--fill-color);\n",
              "    }\n",
              "    30% {\n",
              "      border-color: transparent;\n",
              "      border-left-color: var(--fill-color);\n",
              "      border-top-color: var(--fill-color);\n",
              "      border-right-color: var(--fill-color);\n",
              "    }\n",
              "    40% {\n",
              "      border-color: transparent;\n",
              "      border-right-color: var(--fill-color);\n",
              "      border-top-color: var(--fill-color);\n",
              "    }\n",
              "    60% {\n",
              "      border-color: transparent;\n",
              "      border-right-color: var(--fill-color);\n",
              "    }\n",
              "    80% {\n",
              "      border-color: transparent;\n",
              "      border-right-color: var(--fill-color);\n",
              "      border-bottom-color: var(--fill-color);\n",
              "    }\n",
              "    90% {\n",
              "      border-color: transparent;\n",
              "      border-bottom-color: var(--fill-color);\n",
              "    }\n",
              "  }\n",
              "</style>\n",
              "\n",
              "  <script>\n",
              "    async function quickchart(key) {\n",
              "      const quickchartButtonEl =\n",
              "        document.querySelector('#' + key + ' button');\n",
              "      quickchartButtonEl.disabled = true;  // To prevent multiple clicks.\n",
              "      quickchartButtonEl.classList.add('colab-df-spinner');\n",
              "      try {\n",
              "        const charts = await google.colab.kernel.invokeFunction(\n",
              "            'suggestCharts', [key], {});\n",
              "      } catch (error) {\n",
              "        console.error('Error during call to suggestCharts:', error);\n",
              "      }\n",
              "      quickchartButtonEl.classList.remove('colab-df-spinner');\n",
              "      quickchartButtonEl.classList.add('colab-df-quickchart-complete');\n",
              "    }\n",
              "    (() => {\n",
              "      let quickchartButtonEl =\n",
              "        document.querySelector('#df-e2307996-77d8-411f-b53e-83ae1702718f button');\n",
              "      quickchartButtonEl.style.display =\n",
              "        google.colab.kernel.accessAllowed ? 'block' : 'none';\n",
              "    })();\n",
              "  </script>\n",
              "</div>\n",
              "\n",
              "    </div>\n",
              "  </div>\n"
            ],
            "application/vnd.google.colaboratory.intrinsic+json": {
              "type": "dataframe",
              "variable_name": "dataset"
            }
          },
          "metadata": {},
          "execution_count": 11
        }
      ]
    },
    {
      "cell_type": "markdown",
      "source": [
        "# Scailing"
      ],
      "metadata": {
        "id": "onU-kl6FGmYv"
      }
    },
    {
      "cell_type": "code",
      "source": [
        "dataset[\"price\"] = dataset[\"price\"].replace({\"£\": \"\", \",\": \"\", \"POA\": None}, regex=True)\n",
        "\n",
        "dataset[\"price\"] = dataset[\"price\"].astype(float)\n",
        "dataset[\"price\"] = dataset[\"price\"].fillna(dataset[\"price\"].mean())\n",
        "\n",
        "from sklearn.preprocessing import StandardScaler\n",
        "\n",
        "price_scaler = StandardScaler()\n",
        "\n",
        "dataset['price'] = dataset['price'].fillna(dataset['price'].mean())  # Ensure no missing values\n",
        "price_scaler.fit(dataset[['price']])\n",
        "\n",
        "\n",
        "scaler = StandardScaler()\n",
        "scaled_columns = ['sizeSqFeetMax', 'bedrooms', 'bathrooms'] + list(encoded_df.columns)\n",
        "dataset[scaled_columns] = scaler.fit_transform(dataset[scaled_columns])\n"
      ],
      "metadata": {
        "id": "lFmWdoQ3HWtN"
      },
      "execution_count": 12,
      "outputs": []
    },
    {
      "cell_type": "markdown",
      "source": [
        "## Machine Learning"
      ],
      "metadata": {
        "id": "Lp3XWHaLJIIj"
      }
    },
    {
      "cell_type": "code",
      "source": [
        "q1 = dataset['price'].quantile(0.25)\n",
        "q3 = dataset['price'].quantile(0.75)\n",
        "iqr = q3 - q1\n",
        "dataset = dataset[(dataset['price'] >= (q1 - 1.5 * iqr)) & (dataset['price'] <= (q3 + 1.5 * iqr))]\n"
      ],
      "metadata": {
        "id": "PdLjWx-UK9te"
      },
      "execution_count": 13,
      "outputs": []
    },
    {
      "cell_type": "markdown",
      "source": [
        "### Spliting Dataset into Train and Test Sets"
      ],
      "metadata": {
        "id": "UoqYxznVJfVH"
      }
    },
    {
      "cell_type": "code",
      "source": [
        "from sklearn.model_selection import train_test_split\n",
        "\n",
        "\n",
        "X = dataset.drop(columns=['price', 'addedOn', 'title', 'descriptionHtml', 'propertyType', 'listingUpdateReason'])\n",
        "y = dataset['price']\n",
        "\n",
        "X_train, X_test, y_train, y_test = train_test_split(X, y, test_size=0.2, random_state=42)"
      ],
      "metadata": {
        "id": "PbdaGgFhJHhl"
      },
      "execution_count": 14,
      "outputs": []
    },
    {
      "cell_type": "markdown",
      "source": [
        "### Building Models"
      ],
      "metadata": {
        "id": "LNWuuwNDJvyx"
      }
    },
    {
      "cell_type": "code",
      "source": [
        "from sklearn.ensemble import RandomForestRegressor\n",
        "from sklearn.linear_model import LinearRegression\n",
        "from sklearn.ensemble import GradientBoostingRegressor\n",
        "from sklearn.metrics import mean_absolute_error, mean_squared_error, r2_score\n",
        "\n",
        "models = {\n",
        "    'Random Forest': RandomForestRegressor(),\n",
        "    'Linear Regression': LinearRegression(),\n",
        "    'Gradient Boosting': GradientBoostingRegressor()\n",
        "}\n"
      ],
      "metadata": {
        "id": "AFgydrXIJuZ8"
      },
      "execution_count": 15,
      "outputs": []
    },
    {
      "cell_type": "markdown",
      "source": [
        "## Modal Evaluating"
      ],
      "metadata": {
        "id": "M84_c5vhPSpZ"
      }
    },
    {
      "cell_type": "code",
      "source": [
        "for name, model in models.items():\n",
        "    print(f\"--- {name} ---\")\n",
        "\n",
        "    model.fit(X_train, y_train)\n",
        "\n",
        "    y_pred = model.predict(X_test)\n",
        "    y_pred_original = price_scaler.inverse_transform(y_pred.reshape(-1, 1))\n",
        "\n",
        "    mae = mean_absolute_error(y_test, y_pred)\n",
        "    mse = mean_squared_error(y_test, y_pred)\n",
        "    rmse = mean_squared_error(y_test, y_pred, squared=False)\n",
        "    r2 = r2_score(y_test, y_pred)\n",
        "\n",
        "    print(f\"Mean Absolute Error: {mae}\")\n",
        "    print(f\"Mean Squared Error: {mse}\")\n",
        "    print(f\"Root Mean Squared Error: {rmse}\")\n",
        "    print(f\"R-squared: {r2}\\n\")\n"
      ],
      "metadata": {
        "colab": {
          "base_uri": "https://localhost:8080/"
        },
        "id": "iFU9cYXxPXSv",
        "outputId": "9ed285ba-b5ed-445a-8427-e692d8b83bc3"
      },
      "execution_count": 16,
      "outputs": [
        {
          "output_type": "stream",
          "name": "stdout",
          "text": [
            "--- Random Forest ---\n"
          ]
        },
        {
          "output_type": "stream",
          "name": "stderr",
          "text": [
            "/usr/local/lib/python3.10/dist-packages/sklearn/metrics/_regression.py:492: FutureWarning: 'squared' is deprecated in version 1.4 and will be removed in 1.6. To calculate the root mean squared error, use the function'root_mean_squared_error'.\n",
            "  warnings.warn(\n",
            "/usr/local/lib/python3.10/dist-packages/sklearn/metrics/_regression.py:492: FutureWarning: 'squared' is deprecated in version 1.4 and will be removed in 1.6. To calculate the root mean squared error, use the function'root_mean_squared_error'.\n",
            "  warnings.warn(\n"
          ]
        },
        {
          "output_type": "stream",
          "name": "stdout",
          "text": [
            "Mean Absolute Error: 2059198.3367077583\n",
            "Mean Squared Error: 8156918140366.045\n",
            "Root Mean Squared Error: 2856031.8871409763\n",
            "R-squared: 0.4333268345768251\n",
            "\n",
            "--- Linear Regression ---\n",
            "Mean Absolute Error: 2713429.128772239\n",
            "Mean Squared Error: 12801159630676.562\n",
            "Root Mean Squared Error: 3577870.823643101\n",
            "R-squared: 0.11068451047648731\n",
            "\n",
            "--- Gradient Boosting ---\n",
            "Mean Absolute Error: 2177744.6895058746\n",
            "Mean Squared Error: 8494097424457.689\n",
            "Root Mean Squared Error: 2914463.488269786\n",
            "R-squared: 0.4099024911001161\n",
            "\n"
          ]
        },
        {
          "output_type": "stream",
          "name": "stderr",
          "text": [
            "/usr/local/lib/python3.10/dist-packages/sklearn/metrics/_regression.py:492: FutureWarning: 'squared' is deprecated in version 1.4 and will be removed in 1.6. To calculate the root mean squared error, use the function'root_mean_squared_error'.\n",
            "  warnings.warn(\n"
          ]
        }
      ]
    }
  ]
}